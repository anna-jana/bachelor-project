{
 "cells": [
  {
   "cell_type": "code",
   "execution_count": 1,
   "metadata": {},
   "outputs": [],
   "source": [
    "import numpy as np\n",
    "from numpy import pi\n",
    "import matplotlib.pyplot as plt\n",
    "%matplotlib inline\n",
    "from astropy import units as u, constants as ac\n",
    "from scipy import constants as sc\n",
    "import sympy as sp\n",
    "sp.init_printing(use_latex='mathjax')"
   ]
  },
  {
   "cell_type": "code",
   "execution_count": 2,
   "metadata": {},
   "outputs": [
    {
     "data": {
      "text/html": [
       "<style>.container { width:100% !important; }</style>"
      ],
      "text/plain": [
       "<IPython.core.display.HTML object>"
      ]
     },
     "metadata": {},
     "output_type": "display_data"
    }
   ],
   "source": [
    "from IPython.core.display import display, HTML, Latex\n",
    "display(HTML(\"<style>.container { width:100% !important; }</style>\"))"
   ]
  },
  {
   "cell_type": "code",
   "execution_count": 3,
   "metadata": {},
   "outputs": [],
   "source": [
    "def show(*args):\n",
    "    for arg in args:\n",
    "        if isinstance(arg, str):\n",
    "            print(arg, end=\" \")\n",
    "        else:\n",
    "            print(\"%e\" % arg, end=\" \")\n",
    "    print(\"\")"
   ]
  },
  {
   "cell_type": "code",
   "execution_count": 4,
   "metadata": {},
   "outputs": [
    {
     "data": {
      "text/latex": [
       "$\\displaystyle \\frac{18.0 \\cdot 10^{\\frac{5}{6}} C \\Lambda_{QCD}^{4} T_{0}^{3} eV^{4} f_{c} g_{0} \\gamma \\theta_{i}^{2}}{g_{osc} \\kappa^{7} \\rho_{c} \\left(\\frac{N eV}{f_{a}}\\right)^{\\frac{7}{6}}}$"
      ],
      "text/plain": [
       "       5/6        4   3   4            2\n",
       "18.0⋅10   ⋅C⋅Λ_QCD ⋅T₀ ⋅eV ⋅f_c⋅g₀⋅γ⋅θᵢ \n",
       "────────────────────────────────────────\n",
       "                            7/6         \n",
       "                7     ⎛N⋅eV⎞            \n",
       "         g_osc⋅κ ⋅ρ_c⋅⎜────⎟            \n",
       "                      ⎝ fₐ ⎠            "
      ]
     },
     "execution_count": 4,
     "metadata": {},
     "output_type": "execute_result"
    }
   ],
   "source": [
    "C, f_c, f_a, Lambda_QCD, kappa, N, rho_c, g_0, g_osc, T_0, gamma, theta_i, eV = \\\n",
    " sp.symbols(\"C, f_c, f_a, Lambda_QCD, kappa, N, rho_c, g_0, g_osc, T_0, gamma, theta_i, eV\")\n",
    "GeV = 10**9 * eV\n",
    "T_osc = kappa * (10**16 * GeV / (f_a / N))**(sp.Rational(1, 6))\n",
    "m_a = 6*10**(-10) * eV * 10**16 * GeV / (f_a / N)\n",
    "zeta = C * (Lambda_QCD / T_osc)**4 # ok\n",
    "m_a_osc = m_a * zeta # ok\n",
    "# s up to a constant factor\n",
    "s0 = g_0 * T_0**3 # ok\n",
    "s_osc = g_osc * T_osc**3 # ok\n",
    "n_a = f_c / 2 * m_a_osc * (f_a / N)**2 * theta_i**2 \n",
    "rho_a = n_a * m_a * s0 / s_osc * gamma\n",
    "Omega_a = rho_a / rho_c # ok\n",
    "Omega_a "
   ]
  },
  {
   "cell_type": "code",
   "execution_count": 40,
   "metadata": {
    "scrolled": true
   },
   "outputs": [
    {
     "name": "stdout",
     "output_type": "stream",
     "text": [
      "iota = 7.409887e-47 , kappa = 1.732314e+08 \n"
     ]
    },
    {
     "data": {
      "text/plain": [
       "1.08762266253743e-17"
      ]
     },
     "execution_count": 40,
     "metadata": {},
     "output_type": "execute_result"
    }
   ],
   "source": [
    "M_p = sc.physical_constants[\"Planck mass\"][0] * sc.c**2 / sc.elementary_charge\n",
    "C = 0.018\n",
    "g_star = 61.75\n",
    "lambda_QCD = sp.RR(200 * 1e6)\n",
    "kappa = sp.RR(((10 * M_p**2 / (pi**2 * g_star))**(1/4) * C**(1/2) * lambda_QCD**2 * (6e-6 / 1e4)**(1/2))**(1/3))\n",
    "g_star_s0 = 3.91\n",
    "g_star_s_osc = g_star \n",
    "T0 = 2.73 * sc.Boltzmann / sc.elementary_charge\n",
    "f_c = 1.44\n",
    "H0 = sp.RR(((67.74 * u.km / u.second / u.Mpc * ac.hbar).to(\"eV\") / u.eV).to_value())\n",
    "M_pl = sp.RR(2.435e18) * 1e9 # [eV]\n",
    "rho_c = 1 / (3 * H0**2 * M_pl**2)\n",
    "h = 0.67 \n",
    "iota = 18 * 10 ** (5 / 6) * C * lambda_QCD**4 * T0**3 * f_c * g_star_s0 / (g_star_s_osc * kappa**7 * rho_c)\n",
    "show(\"iota =\", iota / h**2, \", kappa =\", kappa)\n",
    "iota * (1e16 * 1e9)**(7/6) / h**2"
   ]
  },
  {
   "cell_type": "code",
   "execution_count": 37,
   "metadata": {},
   "outputs": [
    {
     "data": {
      "text/plain": [
       "(<Quantity 0.00023525 eV>, 0.00023525311820602992)"
      ]
     },
     "execution_count": 37,
     "metadata": {},
     "output_type": "execute_result"
    }
   ],
   "source": [
    "(2.73 * u.K * ac.k_B).to(\"eV\"), T0"
   ]
  },
  {
   "cell_type": "code",
   "execution_count": null,
   "metadata": {},
   "outputs": [],
   "source": []
  }
 ],
 "metadata": {
  "kernelspec": {
   "display_name": "Python 3",
   "language": "python",
   "name": "python3"
  },
  "language_info": {
   "codemirror_mode": {
    "name": "ipython",
    "version": 3
   },
   "file_extension": ".py",
   "mimetype": "text/x-python",
   "name": "python",
   "nbconvert_exporter": "python",
   "pygments_lexer": "ipython3",
   "version": "3.7.3"
  }
 },
 "nbformat": 4,
 "nbformat_minor": 2
}
