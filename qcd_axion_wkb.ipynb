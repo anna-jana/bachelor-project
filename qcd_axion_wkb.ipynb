{
 "cells": [
  {
   "cell_type": "code",
   "execution_count": 8,
   "metadata": {},
   "outputs": [],
   "source": [
    "import numpy as np\n",
    "from numpy import pi\n",
    "import sympy as sp\n",
    "\n",
    "from constants import *\n",
    "from util import *"
   ]
  },
  {
   "cell_type": "code",
   "execution_count": 9,
   "metadata": {},
   "outputs": [
    {
     "data": {
      "text/html": [
       "<style>.container { width:100% !important; }</style>"
      ],
      "text/plain": [
       "<IPython.core.display.HTML object>"
      ]
     },
     "metadata": {},
     "output_type": "display_data"
    }
   ],
   "source": [
    "from IPython.core.display import display, HTML, Latex\n",
    "display(HTML(\"<style>.container { width:100% !important; }</style>\"))"
   ]
  },
  {
   "cell_type": "code",
   "execution_count": 10,
   "metadata": {},
   "outputs": [
    {
     "data": {
      "text/latex": [
       "$\\displaystyle \\frac{18.0 \\cdot 10^{\\frac{5}{6}} C \\Lambda_{QCD}^{4} T_{0}^{3} eV^{4} f_{c} g_{0} \\gamma \\theta_{i}^{2}}{g_{osc} \\kappa^{7} \\rho_{c} \\left(\\frac{N eV}{f_{a}}\\right)^{\\frac{7}{6}}}$"
      ],
      "text/plain": [
       "18.0*10**(5/6)*C*Lambda_QCD**4*T_0**3*eV**4*f_c*g_0*gamma*theta_i**2/(g_osc*kappa**7*rho_c*(N*eV/f_a)**(7/6))"
      ]
     },
     "execution_count": 10,
     "metadata": {},
     "output_type": "execute_result"
    }
   ],
   "source": [
    "C, f_c, f_a, Lambda_QCD, kappa, N, rho_c, g_0, g_osc, T_0, gamma, theta_i, eV = \\\n",
    " sp.symbols(\"C, f_c, f_a, Lambda_QCD, kappa, N, rho_c, g_0, g_osc, T_0, gamma, theta_i, eV\")\n",
    "GeV = 10**9 * eV\n",
    "T_osc = kappa * (10**16 * GeV / (f_a / N))**(sp.Rational(1, 6))\n",
    "m_a = 6*10**(-10) * eV * 10**16 * GeV / (f_a / N)\n",
    "zeta = C * (Lambda_QCD / T_osc)**4 # ok\n",
    "m_a_osc = m_a * zeta # ok\n",
    "# s up to a constant factor\n",
    "s0 = g_0 * T_0**3 # ok\n",
    "s_osc = g_osc * T_osc**3 # ok\n",
    "n_a = f_c / 2 * m_a_osc * (f_a / N)**2 * theta_i**2 \n",
    "rho_a = n_a * m_a * s0 / s_osc * gamma\n",
    "Omega_a = rho_a / rho_c # ok\n",
    "Omega_a "
   ]
  },
  {
   "cell_type": "code",
   "execution_count": 11,
   "metadata": {
    "scrolled": true
   },
   "outputs": [
    {
     "name": "stdout",
     "output_type": "stream",
     "text": [
      "iota = 4.860644e-46 , kappa = 1.324125e+08 \n"
     ]
    },
    {
     "data": {
      "text/plain": [
       "7.13444903096115e-17"
      ]
     },
     "execution_count": 11,
     "metadata": {},
     "output_type": "execute_result"
    }
   ],
   "source": [
    "from constants import *\n",
    "C = 0.018\n",
    "g_star = 61.75\n",
    "kappa = sp.RR(((10 * M_pl**2 / (pi**2 * g_star))**(1/4) * C**(1/2) * Lambda_QCD**2 * (6e-6 / 1e4)**(1/2))**(1/3))\n",
    "g_star_s0 = 3.91\n",
    "g_star_s_osc = g_star \n",
    "f_c = 1.44\n",
    "iota = 18 * 10 ** (5 / 6) * C * Lambda_QCD**4 * T0**3 * f_c * g_star_s0 / (g_star_s_osc * kappa**7 * rho_c)\n",
    "show(\"iota =\", iota / h**2, \", kappa =\", kappa)\n",
    "iota * (1e16 * 1e9)**(7/6) / h**2"
   ]
  },
  {
   "cell_type": "code",
   "execution_count": null,
   "metadata": {},
   "outputs": [],
   "source": []
  }
 ],
 "metadata": {
  "kernelspec": {
   "display_name": "Python 3",
   "language": "python",
   "name": "python3"
  },
  "language_info": {
   "codemirror_mode": {
    "name": "ipython",
    "version": 3
   },
   "file_extension": ".py",
   "mimetype": "text/x-python",
   "name": "python",
   "nbconvert_exporter": "python",
   "pygments_lexer": "ipython3",
   "version": "3.7.3"
  }
 },
 "nbformat": 4,
 "nbformat_minor": 2
}
