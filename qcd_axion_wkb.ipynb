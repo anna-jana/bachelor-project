{
 "cells": [
  {
   "cell_type": "code",
   "execution_count": 2,
   "metadata": {},
   "outputs": [],
   "source": [
    "import numpy as np\n",
    "import sympy as sp\n",
    "import matplotlib.pyplot as plt"
   ]
  },
  {
   "cell_type": "markdown",
   "metadata": {},
   "source": [
    "## Compute $\\kappa$ and $\\iota$"
   ]
  },
  {
   "cell_type": "code",
   "execution_count": 3,
   "metadata": {},
   "outputs": [
    {
     "data": {
      "text/plain": [
       "C*E1**2*E2**2*T_0**3*f_c*g_0*gamma*theta_i**2*(E1*N/f_a)**(-3/(2*(n/2 + 1)))*(Lambda_QCD*(E1*N/f_a)**(-1/(2*(n/2 + 1)))/kappa)**n/(2*g_osc*kappa**3*rho_c)"
      ]
     },
     "execution_count": 3,
     "metadata": {},
     "output_type": "execute_result"
    }
   ],
   "source": [
    "E1, E2, n, C, f_c, f_a, Lambda_QCD, kappa, N, rho_c, g_0, g_osc, T_0, gamma, theta_i, eV = \\\n",
    " sp.symbols(\"E1, E2, n, C, f_c, f_a, Lambda_QCD, kappa, N, rho_c, g_0, g_osc, T_0, gamma, theta_i, eV\")\n",
    "GeV = 10**9 * eV\n",
    "T_osc = kappa * (E1 / (f_a / N))**(1/(1 + n/2)/2)\n",
    "#m_a = 6*10**(-10) * eV * 10**16 * GeV / (f_a / N)\n",
    "m_a = E2 * E1 / (f_a / N)\n",
    "zeta = C * (Lambda_QCD / T_osc)**n # ok\n",
    "m_a_osc = m_a * zeta # ok\n",
    "# s up to a constant factor\n",
    "s0 = g_0 * T_0**3 # ok\n",
    "s_osc = g_osc * T_osc**3 # ok\n",
    "n_a = f_c / 2 * m_a_osc * (f_a / N)**2 * theta_i**2 \n",
    "rho_a = n_a * m_a * s0 / s_osc * gamma\n",
    "Omega_a = rho_a / rho_c # ok\n",
    "Omega_a"
   ]
  },
  {
   "cell_type": "code",
   "execution_count": 4,
   "metadata": {
    "scrolled": true
   },
   "outputs": [
    {
     "name": "stdout",
     "output_type": "stream",
     "text": [
      "1.324125e+08 \n",
      "1.042269e+04 \n"
     ]
    }
   ],
   "source": [
    "from constants import *\n",
    "from numpy import pi\n",
    "from util import *\n",
    "n = 4\n",
    "C = 0.018\n",
    "g_star = 61.75\n",
    "kappa = ((10 * M_pl**2 / (pi**2 * g_star))**(1/4) * C**(1/2) * Lambda_QCD**(n/2) * (6e-10)**(1/2))**(1/(1 + n/2))\n",
    "g_star_s0 = 3.91\n",
    "g_star_s_osc = g_star \n",
    "f_c = 1.44\n",
    "E1 = 1e16 * 1e9\n",
    "E2 = 6e-10\n",
    "#iota = (1e16 * 1e9)**(7/6) * h**2 * 18 * 10 ** (5 / 6) * C * Lambda_QCD**4 * T0**3 * f_c * g_star_s0 / (g_star_s_osc * kappa**7 * rho_c)\n",
    "iota = (\n",
    "    C * E1**2 * E2**2 * T0**3 * f_c * g_star_s0 * Lambda_QCD**n / \n",
    "    (2 * g_star_s_osc * rho_c * kappa**(3 + n)) *\n",
    "    h**2\n",
    ")\n",
    "show(kappa)\n",
    "show(iota)"
   ]
  },
  {
   "cell_type": "markdown",
   "metadata": {},
   "source": [
    "## Plot WKB Approximation "
   ]
  },
  {
   "cell_type": "code",
   "execution_count": 5,
   "metadata": {},
   "outputs": [],
   "source": [
    "N = 100\n",
    "f_a = np.logspace(9, 18, N) * 1e9 # [eV]\n",
    "theta_i = np.logspace(-5, 0, N) # [RAD]\n",
    "F_A, THETA_I = np.meshgrid(f_a, theta_i)"
   ]
  },
  {
   "cell_type": "code",
   "execution_count": 6,
   "metadata": {},
   "outputs": [],
   "source": [
    "Omega_a_h_sq = iota * (F_A / (1e16 * 1e9))**(7/6) * THETA_I**2"
   ]
  },
  {
   "cell_type": "code",
   "execution_count": 7,
   "metadata": {},
   "outputs": [],
   "source": [
    "Omega_a_h_sq[Omega_a_h_sq > Omega_DM_h_sq] = 0.0"
   ]
  },
  {
   "cell_type": "code",
   "execution_count": 8,
   "metadata": {},
   "outputs": [
    {
     "name": "stderr",
     "output_type": "stream",
     "text": [
      "/usr/local/lib/python3.6/dist-packages/ipykernel_launcher.py:6: RuntimeWarning: divide by zero encountered in log10\n",
      "  \n"
     ]
    },
    {
     "data": {
      "image/png": "[encoded data removed]",
      "text/plain": [
       "<matplotlib.figure.Figure at 0x7fb903872ef0>"
      ]
     },
     "metadata": {},
     "output_type": "display_data"
    }
   ],
   "source": [
    "# plot\n",
    "fig = plt.figure()\n",
    "ax = fig.add_subplot(1,1,1)\n",
    "ax.set_xscale(\"log\")\n",
    "ax.set_yscale(\"log\")\n",
    "plt.contourf(f_a / 1e9, theta_i, np.log10(Omega_a_h_sq) , 10)\n",
    "plt.xlabel(r\"$f_a / \\mathrm{GeV}$\")\n",
    "plt.ylabel(r\"$\\theta_i$\")\n",
    "plt.text(0.55, 0.8, r\"$\\Omega_a h^2 > \\Omega_\\mathrm{DM} h^2 = 0.12$\", transform=ax.transAxes)\n",
    "cbar = plt.colorbar()\n",
    "cbar.ax.set_ylabel(r\"$\\log_{10}(\\Omega_a h^2)$\")\n",
    "fig.savefig(\"Plots/qcd_relic_denstiy_wkb_plot.pdf\")"
   ]
  },
  {
   "cell_type": "code",
   "execution_count": null,
   "metadata": {},
   "outputs": [],
   "source": []
  }
 ],
 "metadata": {
  "kernelspec": {
   "display_name": "Python 3",
   "language": "python",
   "name": "python3"
  },
  "language_info": {
   "codemirror_mode": {
    "name": "ipython",
    "version": 3
   },
   "file_extension": ".py",
   "mimetype": "text/x-python",
   "name": "python",
   "nbconvert_exporter": "python",
   "pygments_lexer": "ipython3",
   "version": "3.6.7"
  }
 },
 "nbformat": 4,
 "nbformat_minor": 2
}
