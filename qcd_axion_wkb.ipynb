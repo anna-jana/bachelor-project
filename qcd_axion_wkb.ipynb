{
 "cells": [
  {
   "cell_type": "code",
   "execution_count": 8,
   "metadata": {},
   "outputs": [],
   "source": [
    "import numpy as np\n",
    "from numpy import pi\n",
    "import matplotlib.pyplot as plt\n",
    "from astropy import units as u, constants as ac\n",
    "from scipy import constants as sc"
   ]
  },
  {
   "cell_type": "code",
   "execution_count": 27,
   "metadata": {},
   "outputs": [
    {
     "data": {
      "text/html": [
       "<style>.container { width:100% !important; }</style>"
      ],
      "text/plain": [
       "<IPython.core.display.HTML object>"
      ]
     },
     "metadata": {},
     "output_type": "display_data"
    }
   ],
   "source": [
    "from IPython.core.display import display, HTML\n",
    "display(HTML(\"<style>.container { width:100% !important; }</style>\"))"
   ]
  },
  {
   "cell_type": "code",
   "execution_count": 28,
   "metadata": {},
   "outputs": [
    {
     "data": {
      "text/latex": [
       "$8.4283608 \\times 10^{44} \\; \\mathrm{\\frac{1}{eV^{2}}}$"
      ],
      "text/plain": [
       "<Quantity 8.42836082e+44 1 / eV2>"
      ]
     },
     "execution_count": 28,
     "metadata": {},
     "output_type": "execute_result"
    }
   ],
   "source": [
    "M_p = sc.physical_constants[\"Planck mass\"][0] * sc.c**2 / sc.elementary_charge\n",
    "C = 0.018\n",
    "g_star = 61.75\n",
    "lambda_QCD = 200 * 1e6\n",
    "kappa = ((10 * M_p**2 / (pi**2 * g_star))**(1/4) * C**(1/2) * lambda_QCD**2 * (6e-6 / 1e4)**(1/2))**(1/3)\n",
    "g_star_s0 = 3.91\n",
    "g_star_s_osc = g_star \n",
    "T0 = 2.73\n",
    "f_c = 1.44\n",
    "H0 = ((67.74 * u.km / u.second / u.Mpc * ac.hbar).to(\"eV\") / u.eV).to_value()\n",
    "M_pl = 2.435e18 * 1e9 # [eV]\n",
    "G = ac.G / (ac.hbar * ac.c**5)\n",
    "G = G.to(\"1/J**2\").to(\"1/eV**2\")\n",
    "rho_c = 3 * H0**2 / (8 * pi * G)\n",
    "h = 0.67 \n",
    "1 / h**2 * 1 / rho_c * g_star_s0 / g_star_s_osc * T0**3 * 6e-10**2 * f_c / 2 * (1e16 * 1e9)**2 * C * (lambda_QCD / kappa)**4 * kappa**(1/2)"
   ]
  },
  {
   "cell_type": "code",
   "execution_count": 29,
   "metadata": {},
   "outputs": [
    {
     "data": {
      "text/latex": [
       "$6.7086096 \\times 10^{-57} \\; \\mathrm{\\frac{1}{eV^{2}}}$"
      ],
      "text/plain": [
       "<Quantity 6.70860961e-57 1 / eV2>"
      ]
     },
     "execution_count": 29,
     "metadata": {},
     "output_type": "execute_result"
    }
   ],
   "source": [
    "G"
   ]
  },
  {
   "cell_type": "code",
   "execution_count": 25,
   "metadata": {},
   "outputs": [
    {
     "data": {
      "text/latex": [
       "$8.4283608 \\times 10^{44} \\; \\mathrm{\\frac{1}{eV^{2}}}$"
      ],
      "text/plain": [
       "<Quantity 8.42836082e+44 1 / eV2>"
      ]
     },
     "execution_count": 25,
     "metadata": {},
     "output_type": "execute_result"
    }
   ],
   "source": [
    "1 / h**2 * 1 / rho_c * g_star_s0 / g_star_s_osc * T0**3 * 6e-10**2 * f_c / 2 * (1e16 * 1e9)**2 * C * (lambda_QCD / kappa)**4 * kappa**(1/2)"
   ]
  },
  {
   "cell_type": "code",
   "execution_count": null,
   "metadata": {},
   "outputs": [],
   "source": [
    "\"%e\" % (kappa / 1e6)"
   ]
  }
 ],
 "metadata": {
  "kernelspec": {
   "display_name": "Python 3",
   "language": "python",
   "name": "python3"
  },
  "language_info": {
   "codemirror_mode": {
    "name": "ipython",
    "version": 3
   },
   "file_extension": ".py",
   "mimetype": "text/x-python",
   "name": "python",
   "nbconvert_exporter": "python",
   "pygments_lexer": "ipython3",
   "version": "3.7.2"
  }
 },
 "nbformat": 4,
 "nbformat_minor": 2
}
