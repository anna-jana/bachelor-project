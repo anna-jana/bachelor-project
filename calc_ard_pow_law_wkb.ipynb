{
 "cells": [
  {
   "cell_type": "code",
   "execution_count": 1,
   "metadata": {},
   "outputs": [
    {
     "data": {
      "text/plain": [
       "'\\nCalculate the WKB approximation for the power law case of the axion relic density.\\n'"
      ]
     },
     "execution_count": 1,
     "metadata": {},
     "output_type": "execute_result"
    }
   ],
   "source": [
    "\"\"\"\n",
    "Calculate the WKB approximation for the power law case of the axion relic density.\n",
    "\"\"\""
   ]
  },
  {
   "cell_type": "code",
   "execution_count": 2,
   "metadata": {},
   "outputs": [],
   "source": [
    "import numpy as np\n",
    "import matplotlib.pyplot as plt\n",
    "from astropy import units as u, constants as c\n",
    "from constants import *"
   ]
  },
  {
   "cell_type": "code",
   "execution_count": 3,
   "metadata": {},
   "outputs": [],
   "source": [
    "N = 200"
   ]
  },
  {
   "cell_type": "code",
   "execution_count": 4,
   "metadata": {},
   "outputs": [],
   "source": [
    "# model paramter\n",
    "m_a_linear = np.logspace(-24, -12, N) # [eV]\n",
    "phi_i_linear = 1e9 * np.logspace(13, 18, N) # [eV]\n",
    "m_a, phi_i = np.meshgrid(m_a_linear, phi_i_linear)"
   ]
  },
  {
   "cell_type": "markdown",
   "metadata": {},
   "source": [
    "$$\n",
    "z_\\mathrm{eq} = \\frac{\\rho_c \\Omega_m(t_0)}{\\rho_\\gamma(t_0)} - 1\n",
    "\\Rightarrow \n",
    "\\Omega_\\gamma = \\frac{\\rho_\\gamma}{\\rho_c} = \\frac{\\Omega_m}{z_\\mathrm{eq} + 1}\n",
    "$$"
   ]
  },
  {
   "cell_type": "code",
   "execution_count": 5,
   "metadata": {},
   "outputs": [],
   "source": [
    "# compute the axion relic density parameter\n",
    "Omega_a = 1/6 * (9*Omega_rad)**(3/4) * (m_a / H0)**(1/2) * (phi_i / M_pl)**2"
   ]
  },
  {
   "cell_type": "code",
   "execution_count": 6,
   "metadata": {},
   "outputs": [],
   "source": [
    "Omega_a[Omega_a*h**2 > Omega_DM_h_sq] = 0"
   ]
  },
  {
   "cell_type": "code",
   "execution_count": 7,
   "metadata": {},
   "outputs": [
    {
     "name": "stderr",
     "output_type": "stream",
     "text": [
      "/usr/local/lib/python3.6/dist-packages/ipykernel_launcher.py:6: RuntimeWarning: divide by zero encountered in log10\n",
      "  \n"
     ]
    },
    {
     "data": {
      "image/png": "[encoded data removed]",
      "text/plain": [
       "<matplotlib.figure.Figure at 0x7f66882a1e10>"
      ]
     },
     "metadata": {},
     "output_type": "display_data"
    }
   ],
   "source": [
    "# plot\n",
    "fig = plt.figure()\n",
    "ax = fig.add_subplot(1,1,1)\n",
    "ax.set_xscale(\"log\")\n",
    "ax.set_yscale(\"log\")\n",
    "plt.contourf(m_a, phi_i / 1e9, np.log10(Omega_a * h**2), 10)\n",
    "plt.xlabel(r\"$m_a / \\mathrm{eV}$\")\n",
    "plt.ylabel(r\"$\\phi_i / \\mathrm{GeV}$\")\n",
    "plt.text(0.5, 0.75, r\"$\\Omega_a h^2 > \\Omega_\\mathrm{DM} h^2 = 0.12$\", transform=ax.transAxes)\n",
    "cbar = plt.colorbar()\n",
    "cbar.ax.set_ylabel(r\"$\\log_{10}(\\Omega_a h^2)$\")\n",
    "plt.savefig(\"Plots/pow_law_wkb_plot.pdf\")"
   ]
  },
  {
   "cell_type": "code",
   "execution_count": null,
   "metadata": {},
   "outputs": [],
   "source": []
  },
  {
   "cell_type": "code",
   "execution_count": null,
   "metadata": {},
   "outputs": [],
   "source": []
  }
 ],
 "metadata": {
  "kernelspec": {
   "display_name": "Python 3",
   "language": "python",
   "name": "python3"
  },
  "language_info": {
   "codemirror_mode": {
    "name": "ipython",
    "version": 3
   },
   "file_extension": ".py",
   "mimetype": "text/x-python",
   "name": "python",
   "nbconvert_exporter": "python",
   "pygments_lexer": "ipython3",
   "version": "3.6.7"
  }
 },
 "nbformat": 4,
 "nbformat_minor": 2
}
