{
 "cells": [
  {
   "cell_type": "code",
   "execution_count": 1,
   "metadata": {},
   "outputs": [
    {
     "data": {
      "text/plain": [
       "'\\nCalculate the WKB approximation for the power law case of the axion relic density.\\n'"
      ]
     },
     "execution_count": 1,
     "metadata": {},
     "output_type": "execute_result"
    }
   ],
   "source": [
    "\"\"\"\n",
    "Calculate the WKB approximation for the power law case of the axion relic density.\n",
    "\"\"\""
   ]
  },
  {
   "cell_type": "code",
   "execution_count": 2,
   "metadata": {},
   "outputs": [],
   "source": [
    "import numpy as np\n",
    "import matplotlib.pyplot as plt\n",
    "from astropy import units as u, constants as c\n",
    "from constants import *"
   ]
  },
  {
   "cell_type": "code",
   "execution_count": 3,
   "metadata": {},
   "outputs": [],
   "source": [
    "N = 200"
   ]
  },
  {
   "cell_type": "code",
   "execution_count": 4,
   "metadata": {},
   "outputs": [],
   "source": [
    "# model paramter\n",
    "m_a_linear = np.logspace(-24, -12, N) # [eV]\n",
    "phi_i_linear = 1e9 * np.logspace(13, 18, N) # [eV]\n",
    "m_a, phi_i = np.meshgrid(m_a_linear, phi_i_linear)"
   ]
  },
  {
   "cell_type": "markdown",
   "metadata": {},
   "source": [
    "$$\n",
    "z_\\mathrm{eq} = \\frac{\\rho_c \\Omega_m(t_0)}{\\rho_\\gamma(t_0)} - 1\n",
    "\\Rightarrow \n",
    "\\Omega_\\gamma = \\frac{\\rho_\\gamma}{\\rho_c} = \\frac{\\Omega_m}{z_\\mathrm{eq} + 1}\n",
    "$$"
   ]
  },
  {
   "cell_type": "code",
   "execution_count": 5,
   "metadata": {},
   "outputs": [],
   "source": [
    "# compute the axion relic density parameter\n",
    "Omega_a = 1/6 * (9*Omega_rad)**(3/4) * (m_a / H0)**(1/2) * (phi_i / M_pl)**2"
   ]
  },
  {
   "cell_type": "code",
   "execution_count": 6,
   "metadata": {},
   "outputs": [],
   "source": [
    "Omega_a[Omega_a*h**2 > Omega_DM_h_sq] = 0"
   ]
  },
  {
   "cell_type": "code",
   "execution_count": 7,
   "metadata": {},
   "outputs": [
    {
     "name": "stderr",
     "output_type": "stream",
     "text": [
      "/usr/lib/python3.7/site-packages/ipykernel_launcher.py:4: RuntimeWarning: divide by zero encountered in log10\n",
      "  after removing the cwd from sys.path.\n"
     ]
    },
    {
     "data": {
      "image/png": "[encoded data removed]",
      "text/plain": [
       "<Figure size 432x288 with 2 Axes>"
      ]
     },
     "metadata": {},
     "output_type": "display_data"
    }
   ],
   "source": [
    "# plot\n",
    "# plt.figure(figsize=(10,8))\n",
    "#plt.pcolormesh(np.log10(Omega_a * h**2))\n",
    "plt.contourf(np.log10(Omega_a * h**2), 10)\n",
    "plt.xticks(range(0, m_a_linear.size, m_a_linear.size // 12), map(str, range(-24, -12 + 1)))\n",
    "plt.yticks(range(0, phi_i_linear.size, phi_i_linear.size // 5), map(str, range(13, 18 + 1)))\n",
    "plt.xlabel(r\"$\\log_{10}(m_a / \\mathrm{eV})$\")\n",
    "plt.ylabel(r\"$\\log_{10}(\\phi_i / \\mathrm{GeV})$\")\n",
    "plt.text(2 * N / 4, 4 * N / 5, r\"$\\Omega_a h^2 > \\Omega_\\mathrm{DM} h^2 = 0.12$\")\n",
    "cbar = plt.colorbar()\n",
    "cbar.ax.set_ylabel(r\"$\\log_{10}(\\Omega_a h^2)$\")\n",
    "plt.show()"
   ]
  },
  {
   "cell_type": "code",
   "execution_count": null,
   "metadata": {},
   "outputs": [],
   "source": []
  },
  {
   "cell_type": "code",
   "execution_count": null,
   "metadata": {},
   "outputs": [],
   "source": []
  }
 ],
 "metadata": {
  "kernelspec": {
   "display_name": "Python 3",
   "language": "python",
   "name": "python3"
  },
  "language_info": {
   "codemirror_mode": {
    "name": "ipython",
    "version": 3
   },
   "file_extension": ".py",
   "mimetype": "text/x-python",
   "name": "python",
   "nbconvert_exporter": "python",
   "pygments_lexer": "ipython3",
   "version": "3.7.3"
  }
 },
 "nbformat": 4,
 "nbformat_minor": 2
}
