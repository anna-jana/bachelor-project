{
 "cells": [
  {
   "cell_type": "code",
   "execution_count": 1,
   "metadata": {},
   "outputs": [
    {
     "data": {
      "text/plain": [
       "'\\nCalculate the WKB approximation for the power law case of the axion relic density.\\n'"
      ]
     },
     "execution_count": 1,
     "metadata": {},
     "output_type": "execute_result"
    }
   ],
   "source": [
    "\"\"\"\n",
    "Calculate the WKB approximation for the power law case of the axion relic density.\n",
    "\"\"\""
   ]
  },
  {
   "cell_type": "code",
   "execution_count": 22,
   "metadata": {},
   "outputs": [],
   "source": [
    "import numpy as np\n",
    "import matplotlib.pyplot as plt\n",
    "from astropy import units as u, constants as c"
   ]
  },
  {
   "cell_type": "code",
   "execution_count": 23,
   "metadata": {},
   "outputs": [],
   "source": [
    "N = 200"
   ]
  },
  {
   "cell_type": "code",
   "execution_count": 24,
   "metadata": {},
   "outputs": [],
   "source": [
    "# model paramter\n",
    "m_a_linear = np.logspace(-24, -12, N) # [eV]\n",
    "phi_i_linear = 1e9 * np.logspace(13, 18, N) # [eV]\n",
    "m_a, phi_i = np.meshgrid(m_a_linear, phi_i_linear)"
   ]
  },
  {
   "cell_type": "code",
   "execution_count": 25,
   "metadata": {},
   "outputs": [],
   "source": [
    "# natural constants\n",
    "M_pl = 2.435e18 * 1e9 # [eV]"
   ]
  },
  {
   "cell_type": "code",
   "execution_count": 26,
   "metadata": {},
   "outputs": [
    {
     "data": {
      "text/plain": [
       "1.4449752577169766e-33"
      ]
     },
     "execution_count": 26,
     "metadata": {},
     "output_type": "execute_result"
    }
   ],
   "source": [
    "# cosmological parameter\n",
    "H0 = ((67.74 * u.km / u.second / u.Mpc * c.hbar).to(\"eV\") / u.eV).to_value()\n",
    "H0"
   ]
  },
  {
   "cell_type": "markdown",
   "metadata": {},
   "source": [
    "$$\n",
    "z_\\mathrm{eq} = \\frac{\\rho_c \\Omega_m(t_0)}{\\rho_\\gamma(t_0)} - 1\n",
    "\\Rightarrow \n",
    "\\Omega_\\gamma = \\frac{\\rho_\\gamma}{\\rho_c} = \\frac{\\Omega_m}{z_\\mathrm{eq} + 1}\n",
    "$$"
   ]
  },
  {
   "cell_type": "code",
   "execution_count": 27,
   "metadata": {},
   "outputs": [
    {
     "data": {
      "text/plain": [
       "9.882230948433194e-05"
      ]
     },
     "execution_count": 27,
     "metadata": {},
     "output_type": "execute_result"
    }
   ],
   "source": [
    "z_eq = 3400\n",
    "h = 0.65\n",
    "Omega_DM_h_sq = 0.12\n",
    "Omega_c = Omega_DM_h_sq / h**2\n",
    "Omega_b = 0.022 / h**2\n",
    "Omega_m = Omega_c + Omega_b\n",
    "Omega_rad = Omega_m / (z_eq + 1)\n",
    "Omega_rad"
   ]
  },
  {
   "cell_type": "code",
   "execution_count": 28,
   "metadata": {},
   "outputs": [],
   "source": [
    "#Omega_rad = 9.2364e-5 # [1]\n",
    "#Omega_mat = 0.27 \n",
    "#Omega_bar = 0.044\n",
    "#Omega_DM = Omega_mat - Omega_bar\n",
    "#h = 0.7\n",
    "#Omega_DM_h_sq = 0.12"
   ]
  },
  {
   "cell_type": "code",
   "execution_count": 29,
   "metadata": {},
   "outputs": [],
   "source": [
    "# compute the axion relic density parameter\n",
    "Omega_a = 1/6 * (9*Omega_rad)**(3/4) * (m_a / H0)**(1/2) * (phi_i / M_pl)**2"
   ]
  },
  {
   "cell_type": "code",
   "execution_count": 30,
   "metadata": {},
   "outputs": [],
   "source": [
    "Omega_a[Omega_a*h**2 > Omega_DM_h_sq] = 0"
   ]
  },
  {
   "cell_type": "code",
   "execution_count": 40,
   "metadata": {},
   "outputs": [
    {
     "name": "stderr",
     "output_type": "stream",
     "text": [
      "/usr/lib/python3.7/site-packages/ipykernel_launcher.py:4: RuntimeWarning: divide by zero encountered in log10\n",
      "  after removing the cwd from sys.path.\n"
     ]
    },
    {
     "data": {
      "image/png": "[encoded data removed]",
      "text/plain": [
       "<Figure size 432x288 with 2 Axes>"
      ]
     },
     "metadata": {},
     "output_type": "display_data"
    }
   ],
   "source": [
    "# plot\n",
    "# plt.figure(figsize=(10,8))\n",
    "#plt.pcolormesh(np.log10(Omega_a * h**2))\n",
    "plt.contourf(np.log10(Omega_a * h**2), 10)\n",
    "plt.xticks(range(0, m_a_linear.size, m_a_linear.size // 12), map(str, range(-24, -12 + 1)))\n",
    "plt.yticks(range(0, phi_i_linear.size, phi_i_linear.size // 5), map(str, range(13, 18 + 1)))\n",
    "plt.xlabel(r\"$\\log_{10}(m_a / \\mathrm{eV})$\")\n",
    "plt.ylabel(r\"$\\log_{10}(\\phi_i / \\mathrm{GeV})$\")\n",
    "plt.text(2 * N / 4, 4 * N / 5, r\"$\\Omega_a h^2 > \\Omega_\\mathrm{DM} h^2 = 0.12$\")\n",
    "cbar = plt.colorbar()\n",
    "cbar.ax.set_ylabel(r\"$\\log_{10}(\\Omega_a h^2)$\")\n",
    "plt.show()"
   ]
  },
  {
   "cell_type": "code",
   "execution_count": 12,
   "metadata": {},
   "outputs": [
    {
     "data": {
      "text/plain": [
       "9.882230948433194e-05"
      ]
     },
     "execution_count": 12,
     "metadata": {},
     "output_type": "execute_result"
    }
   ],
   "source": []
  },
  {
   "cell_type": "code",
   "execution_count": null,
   "metadata": {},
   "outputs": [],
   "source": []
  }
 ],
 "metadata": {
  "kernelspec": {
   "display_name": "Python 3",
   "language": "python",
   "name": "python3"
  },
  "language_info": {
   "codemirror_mode": {
    "name": "ipython",
    "version": 3
   },
   "file_extension": ".py",
   "mimetype": "text/x-python",
   "name": "python",
   "nbconvert_exporter": "python",
   "pygments_lexer": "ipython3",
   "version": "3.7.2"
  }
 },
 "nbformat": 4,
 "nbformat_minor": 2
}
