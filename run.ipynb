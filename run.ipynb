{
 "cells": [
  {
   "cell_type": "code",
   "execution_count": 8,
   "metadata": {},
   "outputs": [],
   "source": [
    "import importlib\n",
    "import multiprocessing as mp\n",
    "\n",
    "import numpy as np\n",
    "import matplotlib.pyplot as plt\n",
    "\n",
    "import axion_mass\n",
    "import g_star\n",
    "import eom_solver\n",
    "import density_plot\n",
    "\n",
    "eom_solver = importlib.reload(eom_solver)\n",
    "density_plot = importlib.reload(density_plot)"
   ]
  },
  {
   "cell_type": "code",
   "execution_count": 5,
   "metadata": {
    "scrolled": false
   },
   "outputs": [],
   "source": [
    "m_a_fn = axion_mass.m_a_from_chi_general\n",
    "g_model = g_star.borsamyi_table"
   ]
  },
  {
   "cell_type": "code",
   "execution_count": 7,
   "metadata": {},
   "outputs": [
    {
     "name": "stderr",
     "output_type": "stream",
     "text": [
      "/home/janik/Documents/bachelor/density_plot.py:14: RuntimeWarning: divide by zero encountered in log10\n",
      "  plt.pcolormesh(f_a / 1e9, theta_i, np.log10(Omega_a_h_sq))\n"
     ]
    },
    {
     "data": {
      "image/png": "[encoded data removed]",
      "text/plain": [
       "<matplotlib.figure.Figure at 0x7fe954fc4278>"
      ]
     },
     "metadata": {},
     "output_type": "display_data"
    }
   ],
   "source": [
    "_ = density_plot.plot_density(theta_i_s, f_a_s, Omega_a_h_sq)"
   ]
  },
  {
   "cell_type": "code",
   "execution_count": 19,
   "metadata": {},
   "outputs": [
    {
     "name": "stderr",
     "output_type": "stream",
     "text": [
      "/home/janik/Documents/bachelor/axion_mass.py:183: RuntimeWarning: invalid value encountered in double_scalars\n",
      "  correction_factor = (1 - np.log(model.Lambda_QCD / T))**d\n",
      "/home/janik/Documents/bachelor/axion_mass.py:69: RuntimeWarning: invalid value encountered in sqrt\n",
      "  return np.sqrt(chi(T)) / f_a\n",
      "/home/janik/Documents/bachelor/axion_mass.py:183: RuntimeWarning: invalid value encountered in double_scalars\n",
      "  correction_factor = (1 - np.log(model.Lambda_QCD / T))**d\n",
      "/home/janik/Documents/bachelor/axion_mass.py:69: RuntimeWarning: invalid value encountered in sqrt\n",
      "  return np.sqrt(chi(T)) / f_a\n",
      "/home/janik/Documents/bachelor/axion_mass.py:183: RuntimeWarning: invalid value encountered in double_scalars\n",
      "  correction_factor = (1 - np.log(model.Lambda_QCD / T))**d\n",
      "/home/janik/Documents/bachelor/axion_mass.py:69: RuntimeWarning: invalid value encountered in sqrt\n",
      "  return np.sqrt(chi(T)) / f_a\n",
      "/home/janik/Documents/bachelor/axion_mass.py:183: RuntimeWarning: invalid value encountered in double_scalars\n",
      "  correction_factor = (1 - np.log(model.Lambda_QCD / T))**d\n",
      "/home/janik/Documents/bachelor/axion_mass.py:69: RuntimeWarning: invalid value encountered in sqrt\n",
      "  return np.sqrt(chi(T)) / f_a\n",
      "/home/janik/Documents/bachelor/axion_mass.py:183: RuntimeWarning: invalid value encountered in power\n",
      "  correction_factor = (1 - np.log(model.Lambda_QCD / T))**d\n",
      "/home/janik/Documents/bachelor/axion_mass.py:183: RuntimeWarning: invalid value encountered in power\n",
      "  correction_factor = (1 - np.log(model.Lambda_QCD / T))**d\n",
      "/home/janik/Documents/bachelor/axion_mass.py:183: RuntimeWarning: invalid value encountered in power\n",
      "  correction_factor = (1 - np.log(model.Lambda_QCD / T))**d\n",
      "/home/janik/Documents/bachelor/axion_mass.py:183: RuntimeWarning: invalid value encountered in power\n",
      "  correction_factor = (1 - np.log(model.Lambda_QCD / T))**d\n"
     ]
    },
    {
     "name": "stdout",
     "output_type": "stream",
     "text": [
      "CPU times: user 39.1 ms, sys: 16.3 ms, total: 55.4 ms\n",
      "Wall time: 44 s\n"
     ]
    }
   ],
   "source": [
    "%%time\n",
    "theta_i_s = np.logspace(-5, 0, 10)\n",
    "f_a_s = np.logspace(9, 18, 10) * 1e9\n",
    "points = [(i * theta_i_s.size + j + 1, theta_i, f_a) \n",
    "          for i, theta_i in enumerate(theta_i_s) for j, f_a in enumerate(f_a_s)]\n",
    "total = theta_i_s.size * f_a_s.size\n",
    "num_workers = 4\n",
    "def worker_fn(p): \n",
    "    print(p[0], \"out of\", total, \"...\", end=\"\")\n",
    "    ans = eom_solver.compute_density_parameter(*p[1:], m_a_fn, g_model)\n",
    "    print(\" done\")\n",
    "    return ans\n",
    "with mp.Pool(num_workers) as poolparty:\n",
    "    ans = poolparty.map(worker_fn, points)\n",
    "Omega_a_h_sq = np.array(ans).reshape(theta_i_s.size, f_a_s.size)"
   ]
  },
  {
   "cell_type": "code",
   "execution_count": 18,
   "metadata": {},
   "outputs": [
    {
     "data": {
      "text/plain": [
       "2.5"
      ]
     },
     "execution_count": 18,
     "metadata": {},
     "output_type": "execute_result"
    }
   ],
   "source": [
    "(60 + 48) / 43.2"
   ]
  },
  {
   "cell_type": "code",
   "execution_count": null,
   "metadata": {},
   "outputs": [],
   "source": []
  }
 ],
 "metadata": {
  "kernelspec": {
   "display_name": "Python 3",
   "language": "python",
   "name": "python3"
  },
  "language_info": {
   "codemirror_mode": {
    "name": "ipython",
    "version": 3
   },
   "file_extension": ".py",
   "mimetype": "text/x-python",
   "name": "python",
   "nbconvert_exporter": "python",
   "pygments_lexer": "ipython3",
   "version": "3.6.7"
  }
 },
 "nbformat": 4,
 "nbformat_minor": 2
}
