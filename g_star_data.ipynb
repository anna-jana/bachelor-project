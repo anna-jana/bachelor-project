{
 "cells": [
  {
   "cell_type": "code",
   "execution_count": 2,
   "metadata": {},
   "outputs": [],
   "source": [
    "# stdlib\n",
    "import math, sys, importlib\n",
    "    \n",
    "# packages\n",
    "import numpy as np\n",
    "from numpy import sqrt, pi\n",
    "import matplotlib.pyplot as plt\n",
    "from scipy import interpolate as interp\n",
    "from scipy.integrate import quad, odeint\n",
    "import scipy.constants as c\n",
    "\n",
    "# local modules\n",
    "from config import model\n",
    "import g_star\n",
    "from util import *"
   ]
  },
  {
   "cell_type": "markdown",
   "metadata": {},
   "source": [
    "## Find a good Interpolator"
   ]
  },
  {
   "cell_type": "code",
   "execution_count": null,
   "metadata": {},
   "outputs": [],
   "source": [
    "def test_interpolator(interpolator):\n",
    "    g_rho_interp = interpolator(g_star.T, g_star.g_rho_paper)\n",
    "    g_s_interp = interpolator(g_star.T, g_star.g_s_paper)\n",
    "    #plt.figure(figsize=(10, 5))\n",
    "    N = 400\n",
    "    T = np.logspace(np.log10(np.min(g_star.T)), np.log10(np.max(g_star.T)), N)\n",
    "    \n",
    "    plt.semilogx(T, g_rho_interp(T), \"-b\", label=r\"$g_\\rho$ Interpolated\")\n",
    "    plt.semilogx(T, g_s_interp(T), \"--r\", label=r\"$g_\\rho$ Interpolated\")\n",
    "    \n",
    "    plt.semilogx(g_star.T, g_star.g_rho_paper, \"*b\", label=r\"$g_\\rho$ Data\")\n",
    "    plt.semilogx(g_star.T, g_star.g_s_paper, \"+r\", label=r\"$g_s$ Data\")\n",
    "\n",
    "    plt.legend()\n",
    "    plt.grid()\n",
    "    plt.xlabel(\"T / eV\")\n",
    "    plt.ylabel(\"g\")\n",
    "    \n",
    "    return g_rho_interp, g_s_interp"
   ]
  },
  {
   "cell_type": "code",
   "execution_count": null,
   "metadata": {},
   "outputs": [],
   "source": [
    "test_interpolator(interp.CubicSpline) # too many bumps"
   ]
  },
  {
   "cell_type": "code",
   "execution_count": null,
   "metadata": {},
   "outputs": [],
   "source": [
    "test_interpolator(interp.interp1d) # no derivative"
   ]
  },
  {
   "cell_type": "code",
   "execution_count": null,
   "metadata": {},
   "outputs": [],
   "source": [
    "test_interpolator(interp.Akima1DInterpolator) # ok, little bump at the end"
   ]
  },
  {
   "cell_type": "code",
   "execution_count": null,
   "metadata": {},
   "outputs": [],
   "source": [
    "test_interpolator(interp.BarycentricInterpolator) # oh"
   ]
  },
  {
   "cell_type": "code",
   "execution_count": null,
   "metadata": {},
   "outputs": [],
   "source": [
    "test_interpolator(interp.KroghInterpolator) # ooooh"
   ]
  },
  {
   "cell_type": "code",
   "execution_count": null,
   "metadata": {},
   "outputs": [],
   "source": [
    "# ok, this one also uses cubic splines but only monotonic ones, therefore there are no bunmps\n",
    "test_interpolator(interp.PchipInterpolator) \n",
    "plt.savefig(\"Plots/g_plot.pdf\")"
   ]
  },
  {
   "cell_type": "code",
   "execution_count": null,
   "metadata": {},
   "outputs": [],
   "source": [
    "# float(g_rho_interp.derivative()(1e9)) # how to get the derivative"
   ]
  },
  {
   "cell_type": "markdown",
   "metadata": {},
   "source": [
    "### Fix g_star data"
   ]
  },
  {
   "cell_type": "code",
   "execution_count": 11,
   "metadata": {},
   "outputs": [
    {
     "data": {
      "text/plain": [
       "Text(0.5,0,'T [MeV]')"
      ]
     },
     "execution_count": 11,
     "metadata": {},
     "output_type": "execute_result"
    },
    {
     "data": {
      "image/png": "[encoded data removed]",
      "text/plain": [
       "<matplotlib.figure.Figure at 0x7fbcbee417f0>"
      ]
     },
     "metadata": {},
     "output_type": "display_data"
    }
   ],
   "source": [
    "lower_pow = -2\n",
    "upper_pow = 5.8\n",
    "T = np.logspace(lower_pow, upper_pow, 400) *  1e6\n",
    "plt.semilogx(T / 1e6, g_star.borsamyi_table.g_rho(T), \"-\", color=\"blue\", label=\"rho extracted\")\n",
    "plt.semilogx(T / 1e6, g_star.borsamyi_table.g_s(T), \"-\", color=\"red\", label=\"s extracted\")\n",
    "plt.semilogx(T / 1e6, g_star.borsamyi_paper_table.g_rho(T), \"--\", color=\"blue\", label=\"rho table\")\n",
    "plt.semilogx(T / 1e6, g_star.borsamyi_paper_table.g_s(T), \"--\", color=\"red\", label=\"s table\")\n",
    "plt.semilogx(g_star.T / 1e6, g_star.g_rho_paper, \"o\", color=\"blue\", label=\"g_rho values\")\n",
    "plt.semilogx(g_star.T / 1e6, g_star.g_s_paper, \"o\", color=\"red\", label=\"g_s values\")\n",
    "plt.semilogx(g_star.T_g_rho / 1e6, g_star.g_rho, \"*\", color=\"blue\", label=\"extracted g_rho values\")\n",
    "plt.semilogx(g_star.T_g_s / 1e6, g_star.g_s, \"*\", color=\"red\", label=\"extracted g_s values\")\n",
    "plt.legend()\n",
    "plt.xlim(10**lower_pow, 10**upper_pow)\n",
    "#plt.ylim(0, 40)\n",
    "plt.xlabel(\"T [MeV]\")"
   ]
  }
 ],
 "metadata": {
  "kernelspec": {
   "display_name": "Python 3",
   "language": "python",
   "name": "python3"
  },
  "language_info": {
   "codemirror_mode": {
    "name": "ipython",
    "version": 3
   },
   "file_extension": ".py",
   "mimetype": "text/x-python",
   "name": "python",
   "nbconvert_exporter": "python",
   "pygments_lexer": "ipython3",
   "version": "3.6.7"
  }
 },
 "nbformat": 4,
 "nbformat_minor": 2
}
