{
 "cells": [
  {
   "cell_type": "code",
   "execution_count": 1,
   "metadata": {},
   "outputs": [],
   "source": [
    "import numpy as np\n",
    "import matplotlib.pyplot as plt\n",
    "import scipy.integrate as inte\n",
    "import scipy.constants as c\n",
    "import scipy.optimize as opt\n",
    "\n",
    "import axion_mass\n",
    "from config import model\n",
    "import g_star\n",
    "import time_temp"
   ]
  },
  {
   "cell_type": "code",
   "execution_count": 2,
   "metadata": {},
   "outputs": [],
   "source": [
    "def hubble_parameter_in_rad_epoch(T, g_model):\n",
    "    \"\"\"\n",
    "    Compute Hubble parameter in the radiation dominated epoch using the\n",
    "    Friedmann equation 3 H^2 M_pl^2 = rho = pi^2 / 30 * g_* T^4\n",
    "    from the temperature T in eV\n",
    "    \"\"\"\n",
    "    rho = np.pi**2 / 30 * g_model.g_rho(T) * T**4\n",
    "    H = np.sqrt(rho / (3 * model.M_pl**2))\n",
    "    return H"
   ]
  },
  {
   "cell_type": "code",
   "execution_count": 3,
   "metadata": {},
   "outputs": [],
   "source": [
    "def axion_eom_rhs(T, y, f_a, g_model, m_a_fn):\n",
    "    \"\"\"\n",
    "    Computes the rhs of the eom of the axion field as a function of the temperature,\n",
    "    given the temperature in eV, y = [theta(T), dtheta/dT(T)], g_model is a GStarModel,\n",
    "    m_a_fn : T x f_a -> m_a [eV]\n",
    "    \"\"\"\n",
    "    theta, dthetadT = y\n",
    "    H = hubble_parameter_in_rad_epoch(T, g_model)\n",
    "    dtdT = time_temp.dtdT(T, g_model)\n",
    "    d2tdT2 = time_temp.d2tdT2(T, g_model)\n",
    "    dtheta2d2T = - (3*H*dtdT - d2tdT2 / dtdT) * dthetadT - m_a_fn(f_a, T)**2 * dtdT**2 * np.sin(theta)\n",
    "    return dthetadT, dtheta2d2T"
   ]
  },
  {
   "cell_type": "code",
   "execution_count": 4,
   "metadata": {},
   "outputs": [],
   "source": [
    "# y is the state vector\n",
    "theta_i = 1e-5\n",
    "initial_y = (theta_i, 0)\n",
    "f_a = 1e12\n",
    "T_range = ()"
   ]
  },
  {
   "cell_type": "code",
   "execution_count": 5,
   "metadata": {},
   "outputs": [
    {
     "data": {
      "text/plain": [
       "0.0024096677033343524"
      ]
     },
     "execution_count": 5,
     "metadata": {},
     "output_type": "execute_result"
    }
   ],
   "source": [
    "np.sqrt(axion_mass.m_a_at_abs_zero_from_shellard(1e12 * 1e9))"
   ]
  },
  {
   "cell_type": "code",
   "execution_count": 15,
   "metadata": {},
   "outputs": [],
   "source": [
    "# N H(T) = m_a(T) ===> root of N H(T) - m_a(T)\n",
    "def find_T_osc(m_a_fn, f_a, g_model, N=3):\n",
    "    # T_init_guess = (30 / np.pi**2 * axion_mass.m_a_at_abs_zero_from_shellard(f_a) / N) ** (1 / 4) # g = 1\n",
    "    T_init_guess = 1e9\n",
    "    # print(T_init_guess)\n",
    "    sol = opt.root(lambda T_guess: N * hubble_parameter_in_rad_epoch(T_guess, g_model) - m_a_fn(T_guess, f_a), T_init_guess)\n",
    "    # assert sol.success, \"%f MeV\" % (sol.x / 1e6)\n",
    "    T_osc = sol.x\n",
    "    return T_osc"
   ]
  },
  {
   "cell_type": "code",
   "execution_count": 29,
   "metadata": {},
   "outputs": [],
   "source": [
    "def plot_T_osc(m_a_model, label):\n",
    "    g_model = g_star.borsamyi_table\n",
    "    f_a = np.logspace(9, 18, 400) * 1e9 # eV\n",
    "    # f_a = np.logspace(-18, 18, 400) * 1e9 # eV\n",
    "    T_osc = np.array(list(map(lambda f_a: find_T_osc(m_a_model, f_a, g_model), f_a)))\n",
    "    plt.loglog(f_a / 1e9, T_osc / 1e6, label=label)\n",
    "    plt.xlabel(r\"$f_a [\\mathrm{GeV}]$\", fontsize=16)\n",
    "    plt.ylabel(r\"$T_\\mathrm{osc} [\\mathrm{MeV}]$\", fontsize=16)"
   ]
  },
  {
   "cell_type": "code",
   "execution_count": 35,
   "metadata": {},
   "outputs": [
    {
     "name": "stderr",
     "output_type": "stream",
     "text": [
      "/home/janik/Documents/bachelor/axion_mass.py:183: RuntimeWarning: invalid value encountered in power\n",
      "  correction_factor = (1 - np.log(model.Lambda_QCD / T))**d\n"
     ]
    },
    {
     "data": {
      "text/plain": [
       "<matplotlib.legend.Legend at 0x7f53636c7f98>"
      ]
     },
     "execution_count": 35,
     "metadata": {},
     "output_type": "execute_result"
    },
    {
     "data": {
      "image/png": "[encoded data removed]",
      "text/plain": [
       "<matplotlib.figure.Figure at 0x7f53637216d8>"
      ]
     },
     "metadata": {},
     "output_type": "display_data"
    }
   ],
   "source": [
    "plot_T_osc(axion_mass.m_a_fox, \"DIGA (fox)\")\n",
    "plot_T_osc(axion_mass.m_a_shellard, \"IILA (shellard)\")\n",
    "plot_T_osc(axion_mass.m_a_from_chi_general, r\"$\\chi_\\mathrm{Lattice}$ (Bosaminy)\")\n",
    "plt.axhline(model.Lambda_QCD / 1e6, color=\"black\", label=r\"$\\Lambda_\\mathrm{QCD}$\")\n",
    "plt.legend()"
   ]
  }
 ],
 "metadata": {
  "kernelspec": {
   "display_name": "Python 3",
   "language": "python",
   "name": "python3"
  },
  "language_info": {
   "codemirror_mode": {
    "name": "ipython",
    "version": 3
   },
   "file_extension": ".py",
   "mimetype": "text/x-python",
   "name": "python",
   "nbconvert_exporter": "python",
   "pygments_lexer": "ipython3",
   "version": "3.6.7"
  }
 },
 "nbformat": 4,
 "nbformat_minor": 2
}
