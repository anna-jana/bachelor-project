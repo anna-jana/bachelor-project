{
 "cells": [
  {
   "cell_type": "markdown",
   "metadata": {},
   "source": [
    "# Solve the Field Equation"
   ]
  },
  {
   "cell_type": "code",
   "execution_count": 1,
   "metadata": {},
   "outputs": [],
   "source": [
    "import importlib\n",
    "\n",
    "import numpy as np\n",
    "import matplotlib.pyplot as plt\n",
    "import scipy.integrate as inte\n",
    "import scipy.constants as c\n",
    "\n",
    "import axion_mass\n",
    "from config import model\n",
    "import g_star\n",
    "import time_temp\n",
    "import T_osc_solver\n",
    "import eom_solver\n",
    "import density_plot"
   ]
  },
  {
   "cell_type": "code",
   "execution_count": 3,
   "metadata": {
    "scrolled": false
   },
   "outputs": [
    {
     "name": "stderr",
     "output_type": "stream",
     "text": [
      "/home/janik/Documents/bachelor/axion_mass.py:183: RuntimeWarning: invalid value encountered in log\n",
      "  correction_factor = (1 - np.log(model.Lambda_QCD / T))**d\n",
      "/home/janik/Documents/bachelor/axion_mass.py:69: RuntimeWarning: invalid value encountered in sqrt\n",
      "  return np.sqrt(chi(T)) / f_a\n"
     ]
    },
    {
     "name": "stdout",
     "output_type": "stream",
     "text": [
      "CPU times: user 2.85 s, sys: 1.52 ms, total: 2.85 s\n",
      "Wall time: 2.86 s\n",
      "T_osc = 984112560.444\n"
     ]
    },
    {
     "data": {
      "image/png": "[encoded data removed]",
      "text/plain": [
       "<matplotlib.figure.Figure at 0x7f972e1546a0>"
      ]
     },
     "metadata": {},
     "output_type": "display_data"
    }
   ],
   "source": [
    "f_a = 1e12 * 1e9\n",
    "m_a_fn = axion_mass.m_a_from_chi_general\n",
    "g_model = g_star.borsamyi_table\n",
    "theta_i = 1e-5\n",
    "%time T, phi = eom_solver.sim_axion_field_evo_T(theta_i, f_a, m_a_fn, g_model)\n",
    "plt.plot(T, phi)\n",
    "plt.xlabel(\"T [eV]\")\n",
    "plt.ylabel(r\"$\\theta$\")\n",
    "T_osc = T_osc_solver.find_T_osc(f_a, m_a_fn, g_model)\n",
    "plt.axvline(T_osc, color=\"black\", linestyle=\"--\")\n",
    "print(\"T_osc =\", T_osc)\n",
    "plt.gca().invert_xaxis()"
   ]
  },
  {
   "cell_type": "code",
   "execution_count": 20,
   "metadata": {},
   "outputs": [],
   "source": [
    "eom_solver = importlib.reload(eom_solver)\n",
    "density_plot = importlib.reload(density_plot)"
   ]
  },
  {
   "cell_type": "code",
   "execution_count": 10,
   "metadata": {},
   "outputs": [
    {
     "name": "stdout",
     "output_type": "stream",
     "text": [
      "CPU times: user 962 ms, sys: 4.02 ms, total: 966 ms\n",
      "Wall time: 960 ms\n",
      "CPU times: user 543 µs, sys: 0 ns, total: 543 µs\n",
      "Wall time: 542 µs\n"
     ]
    },
    {
     "name": "stderr",
     "output_type": "stream",
     "text": [
      "/home/janik/Documents/bachelor/axion_mass.py:183: RuntimeWarning: invalid value encountered in double_scalars\n",
      "  correction_factor = (1 - np.log(model.Lambda_QCD / T))**d\n",
      "/home/janik/Documents/bachelor/axion_mass.py:69: RuntimeWarning: invalid value encountered in sqrt\n",
      "  return np.sqrt(chi(T)) / f_a\n"
     ]
    },
    {
     "data": {
      "text/plain": [
       "0.0017395116942498497"
      ]
     },
     "execution_count": 10,
     "metadata": {},
     "output_type": "execute_result"
    }
   ],
   "source": [
    "%time T, theta, dthetadT = eom_solver.find_axion_field_osc_vals(theta_i, f_a, m_a_fn, g_model)\n",
    "%time eom_solver.compute_density_parameter_from_field(T, theta, dthetadT, f_a, m_a_fn, g_model)"
   ]
  }
 ],
 "metadata": {
  "kernelspec": {
   "display_name": "Python 3",
   "language": "python",
   "name": "python3"
  },
  "language_info": {
   "codemirror_mode": {
    "name": "ipython",
    "version": 3
   },
   "file_extension": ".py",
   "mimetype": "text/x-python",
   "name": "python",
   "nbconvert_exporter": "python",
   "pygments_lexer": "ipython3",
   "version": "3.6.7"
  }
 },
 "nbformat": 4,
 "nbformat_minor": 2
}
