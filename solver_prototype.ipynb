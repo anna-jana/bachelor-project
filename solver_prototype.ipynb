{
 "cells": [
  {
   "cell_type": "markdown",
   "metadata": {},
   "source": [
    "# Solve the Field Equation"
   ]
  },
  {
   "cell_type": "code",
   "execution_count": 1,
   "metadata": {},
   "outputs": [],
   "source": [
    "import numpy as np\n",
    "import matplotlib.pyplot as plt\n",
    "import scipy.integrate as inte\n",
    "import scipy.constants as c\n",
    "\n",
    "import axion_mass\n",
    "from config import model\n",
    "import g_star\n",
    "import time_temp\n",
    "import T_osc_solver"
   ]
  },
  {
   "cell_type": "code",
   "execution_count": 2,
   "metadata": {},
   "outputs": [],
   "source": [
    "debug = False\n",
    "\n",
    "#energy_unit = 1 # 1e-10 # eV\n",
    "#time_unit = 1 # 1 / eV\n",
    "temperature_unit = 1e12 # eV\n",
    "\n",
    "def axion_eom_T_rhs(T, y, f_a, m_a_fn, g_model):\n",
    "    \"\"\"\n",
    "    Computes the rhs of the eom of the axion field as a function of the temperature,\n",
    "    given the temperature in eV, y = [theta(T), dtheta/dT(T)], g_model is a GStarModel,\n",
    "    m_a_fn : T x f_a -> m_a [eV]\n",
    "    \"\"\"\n",
    "    theta, dthetadT = y \n",
    "    assert np.isfinite(theta) \n",
    "    H = time_temp.hubble_parameter_in_rad_epoch(T * temperature_unit, g_model)\n",
    "    dtdT = time_temp.dtdT(T * temperature_unit, g_model) * temperature_unit\n",
    "    d2tdT2 = time_temp.d2tdT2(T * temperature_unit, g_model) * temperature_unit**2 \n",
    "    m_a = m_a_fn(T * temperature_unit, f_a)\n",
    "    d2thetadT2 = - (3 * H * dtdT - d2tdT2 / dtdT) * dthetadT - m_a**2 * dtdT**2 * np.sin(theta)\n",
    "    if debug:\n",
    "        print(\"----------------------------------\")\n",
    "        print(\"T =\", T * temperature_unit / 1e6, \"MeV\")\n",
    "        print(\"theta =\", theta)\n",
    "        print(\"dtheta/dT =\" ,dthetadT)\n",
    "        print(\"d2thetadT2 =\", d2thetadT2)\n",
    "        print(\"H =\",H)\n",
    "        print(\"dtdT =\",dtdT)\n",
    "        print(\"d2tdT2 =\", d2tdT2)\n",
    "        print(\"m_a**2 =\", m_a, \"** 2 =\", m_a**2)\n",
    "    return dthetadT, d2thetadT2"
   ]
  },
  {
   "cell_type": "code",
   "execution_count": 3,
   "metadata": {},
   "outputs": [],
   "source": [
    "def sim_axion_field_evo_T(theta_i, f_a, m_a_fn, g_model, from_T_osc=5, to_T_osc=0.2, num_pts_to_return=400):\n",
    "    \"\"\"\n",
    "    Solve the EOM for the axion field. Takes the initial field value theta_i, the axion decay constant f_a,\n",
    "    the axion mass as a function of temperature m_a_fn : f_a x T -> m_a and the model\n",
    "    the the eff. rel. dof. : GStarModel.\n",
    "    Returns the temperature and the field values\n",
    "    \"\"\"\n",
    "    T_osc = T_osc_solver.find_T_osc(f_a, m_a_fn, g_model)\n",
    "    T_range = (from_T_osc * T_osc / temperature_unit, to_T_osc * T_osc / temperature_unit)\n",
    "    T = np.linspace(*T_range, num_pts_to_return)\n",
    "    sol = inte.solve_ivp(lambda T, y: axion_eom_T_rhs(T, y, f_a, m_a_fn, g_model), \n",
    "                         T_range, (theta_i, 0), t_eval=T)\n",
    "    return T * temperature_unit, sol.y[0, :]"
   ]
  },
  {
   "cell_type": "code",
   "execution_count": 12,
   "metadata": {
    "scrolled": true
   },
   "outputs": [
    {
     "name": "stdout",
     "output_type": "stream",
     "text": [
      "T_osc = [  9.84112560e+08]\n"
     ]
    },
    {
     "data": {
      "image/png": "[encoded data removed]",
      "text/plain": [
       "<matplotlib.figure.Figure at 0x7fe23850d828>"
      ]
     },
     "metadata": {},
     "output_type": "display_data"
    }
   ],
   "source": [
    "f_a = 1e12 * 1e9\n",
    "m_a_fn = axion_mass.m_a_from_chi_general\n",
    "g_model = g_star.borsamyi_table\n",
    "theta_i = 1e-5\n",
    "T, phi = sim_axion_field_evo_T(theta_i, f_a, m_a_fn, g_model, from_T_osc=1)\n",
    "plt.plot(T, phi)\n",
    "plt.xlabel(\"T [eV]\")\n",
    "plt.ylabel(r\"$\\theta$\")\n",
    "T_osc = T_osc_solver.find_T_osc(f_a, m_a_fn, g_model)\n",
    "plt.axvline(T_osc, color=\"black\", linestyle=\"--\")\n",
    "print(\"T_osc =\", T_osc)\n",
    "plt.gca().invert_xaxis()"
   ]
  },
  {
   "cell_type": "code",
   "execution_count": null,
   "metadata": {},
   "outputs": [],
   "source": []
  }
 ],
 "metadata": {
  "kernelspec": {
   "display_name": "Python 3",
   "language": "python",
   "name": "python3"
  },
  "language_info": {
   "codemirror_mode": {
    "name": "ipython",
    "version": 3
   },
   "file_extension": ".py",
   "mimetype": "text/x-python",
   "name": "python",
   "nbconvert_exporter": "python",
   "pygments_lexer": "ipython3",
   "version": "3.6.7"
  }
 },
 "nbformat": 4,
 "nbformat_minor": 2
}
