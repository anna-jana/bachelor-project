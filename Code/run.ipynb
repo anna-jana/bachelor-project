{
 "cells": [
  {
   "cell_type": "code",
   "execution_count": 3,
   "metadata": {},
   "outputs": [],
   "source": [
    "import importlib\n",
    "\n",
    "import numpy as np\n",
    "import matplotlib.pyplot as plt\n",
    "import scipy.integrate as inte\n",
    "import scipy.interpolate as interpol\n",
    "import scipy.optimize as opt\n",
    "\n",
    "import axion_mass\n",
    "import g_star\n",
    "import eom_solver\n",
    "import density_plot\n",
    "from config import plot_path, model\n",
    "import runner\n",
    "import potential\n",
    "\n",
    "eom_solver = importlib.reload(eom_solver)\n",
    "density_plot = importlib.reload(density_plot)\n",
    "runner = importlib.reload(runner)\n",
    "\n",
    "solver = eom_solver.EOMSolver(axion_mass.m_a_shellard, g_star.borsamyi_table, potential.cosine)"
   ]
  },
  {
   "cell_type": "code",
   "execution_count": 4,
   "metadata": {
    "scrolled": false
   },
   "outputs": [
    {
     "name": "stdout",
     "output_type": "stream",
     "text": [
      "====================================================================================================\n",
      "----------------------------------------\n",
      "================================================================================================"
     ]
    },
    {
     "name": "stderr",
     "output_type": "stream",
     "text": [
      "/usr/local/lib/python3.6/dist-packages/scipy/integrate/_ode.py:1177: UserWarning: dopri5: larger nsteps is needed\n",
      "  self.messages.get(istate, unexpected_istate_msg)))\n"
     ]
    },
    {
     "name": "stdout",
     "output_type": "stream",
     "text": [
      "="
     ]
    },
    {
     "name": "stderr",
     "output_type": "stream",
     "text": [
      "/usr/local/lib/python3.6/dist-packages/scipy/integrate/_ode.py:1177: UserWarning: dopri5: larger nsteps is needed\n",
      "  self.messages.get(istate, unexpected_istate_msg)))\n"
     ]
    },
    {
     "name": "stdout",
     "output_type": "stream",
     "text": [
      "===CPU times: user 131 ms, sys: 111 ms, total: 242 ms\n",
      "Wall time: 4min 35s\n"
     ]
    }
   ],
   "source": [
    "%%time\n",
    "theta_i_s, f_a_s, Omega_a_h_sq = \\\n",
    "    runner.compute_density_parameter((1e-5, np.pi), (1e9, 1e19), solver , N=(10,10))"
   ]
  },
  {
   "cell_type": "code",
   "execution_count": 44,
   "metadata": {},
   "outputs": [],
   "source": [
    "# np.savez(\"sim_shellard_borsamyi_40x40.npz\", Omega_a_h_sq=Omega_a_h_sq, theta_i_s=theta_i_s, f_a_s=f_a_s)\n",
    "f = np.load(\"sim_shellard_borsamyi_40x40.npz\")\n",
    "Omega_a_h_sq = f[\"Omega_a_h_sq\"]\n",
    "theta_i_s = f[\"theta_i_s\"]\n",
    "f_a_s = f[\"f_a_s\"]"
   ]
  },
  {
   "cell_type": "code",
   "execution_count": 5,
   "metadata": {},
   "outputs": [
    {
     "name": "stderr",
     "output_type": "stream",
     "text": [
      "/home/janik/Documents/bachelor/Code/density_plot.py:14: RuntimeWarning: divide by zero encountered in log10\n",
      "  plt.pcolormesh(f_a / 1e9, theta_i, np.log10(Omega_a_h_sq))\n"
     ]
    },
    {
     "data": {
      "image/png": "[encoded data removed]",
      "text/plain": [
       "<matplotlib.figure.Figure at 0x7f25b0cb2748>"
      ]
     },
     "metadata": {},
     "output_type": "display_data"
    }
   ],
   "source": [
    "# plt.figure(figsize=(20,10))\n",
    "density_plot.plot_density(theta_i_s, f_a_s, Omega_a_h_sq, plot_type=\"pcolormesh\")"
   ]
  },
  {
   "cell_type": "code",
   "execution_count": 6,
   "metadata": {},
   "outputs": [],
   "source": [
    "R_a = Omega_a_h_sq / model.Omega_DM_h_sq\n",
    "R_a_avg = 1 / (theta_i_s[-1] - theta_i_s[0]) * inte.simps(R_a, theta_i_s, axis=0)"
   ]
  },
  {
   "cell_type": "code",
   "execution_count": 7,
   "metadata": {},
   "outputs": [
    {
     "data": {
      "text/plain": [
       "Text(0,0.5,'$\\\\theta_0$')"
      ]
     },
     "execution_count": 7,
     "metadata": {},
     "output_type": "execute_result"
    },
    {
     "data": {
      "image/png": "[encoded data removed]",
      "text/plain": [
       "<matplotlib.figure.Figure at 0x7f257a6330f0>"
      ]
     },
     "metadata": {},
     "output_type": "display_data"
    }
   ],
   "source": [
    "def solve_inital_theta(i, f_a):\n",
    "    R_a_interp = interpol.interp1d(theta_i_s, R_a[:, i], bounds_error=False)\n",
    "    try:\n",
    "        return opt.root(lambda theta: R_a_interp(theta) - 1.0, 1.0).x[0]\n",
    "    except ValueError as e:\n",
    "        print(e.args)\n",
    "        return np.NAN\n",
    "\n",
    "theta_0 = np.array([solve_inital_theta(i, f_a) for i, f_a in enumerate(f_a_s)])\n",
    "\n",
    "# print(theta_0)\n",
    "\n",
    "plt.loglog(f_a_s / 1e9, theta_0, \"*\")\n",
    "plt.gca().invert_xaxis()\n",
    "plt.xlabel(\"$f_a$ [GeV]\")\n",
    "plt.ylabel(r\"$\\theta_0$\")"
   ]
  },
  {
   "cell_type": "code",
   "execution_count": null,
   "metadata": {},
   "outputs": [],
   "source": []
  }
 ],
 "metadata": {
  "kernelspec": {
   "display_name": "Python 3",
   "language": "python",
   "name": "python3"
  },
  "language_info": {
   "codemirror_mode": {
    "name": "ipython",
    "version": 3
   },
   "file_extension": ".py",
   "mimetype": "text/x-python",
   "name": "python",
   "nbconvert_exporter": "python",
   "pygments_lexer": "ipython3",
   "version": "3.6.7"
  }
 },
 "nbformat": 4,
 "nbformat_minor": 2
}
