{
 "cells": [
  {
   "cell_type": "code",
   "execution_count": 2,
   "metadata": {},
   "outputs": [],
   "source": [
    "import numpy as np\n",
    "import matplotlib.pyplot as plt\n",
    "import scipy.optimize as opt\n",
    "\n",
    "import density_plot\n",
    "from config import plot_path, parameter\n",
    "import runner"
   ]
  },
  {
   "cell_type": "code",
   "execution_count": 3,
   "metadata": {},
   "outputs": [],
   "source": [
    "Omega_a_h_sq_harm, theta_i_s_harm, f_a_s_harm = runner.load_data(\"harmonic.npz\")\n",
    "Omega_a_h_sq, theta_i_s, f_a_s = runner.load_data(\"cosine.npz\")"
   ]
  },
  {
   "cell_type": "markdown",
   "metadata": {},
   "source": [
    "## Polynomial"
   ]
  },
  {
   "cell_type": "code",
   "execution_count": 4,
   "metadata": {},
   "outputs": [
    {
     "name": "stdout",
     "output_type": "stream",
     "text": [
      "[ -4.08954531e+00   1.17205231e+00   9.95913534e-19   1.25806602e+00] +/-\n",
      " [  2.15836137e-02   2.49729782e-03   9.56974022e-18   2.98878524e-01]\n",
      "A = 8.13681960111e-05\n",
      "q = 1.17205230807 vs 7/6 = 1.1666666666666667\n",
      "B = 8.1035687623e-23\n",
      "p = 2.43011832792 vs 3/2 = 1.5\n"
     ]
    },
    {
     "name": "stderr",
     "output_type": "stream",
     "text": [
      "/usr/local/lib/python3.6/dist-packages/ipykernel_launcher.py:3: RuntimeWarning: overflow encountered in power\n",
      "  This is separate from the ipykernel package so we can avoid doing imports until\n"
     ]
    }
   ],
   "source": [
    "# def fit_fn(f_a, A, q): return np.log10(A) + q*np.log10(f_a)\n",
    "def fit_fn(log_f_a, log_A, q, B_over_A, p_minus_q): \n",
    "    return log_A + q * log_f_a + np.log(1 + B_over_A * (10**log_f_a)**p_minus_q) \n",
    "theta_i_index = 0\n",
    "Omega_unit = 1e-15\n",
    "Omega = Omega_a_h_sq_harm[theta_i_index, :] / Omega_unit\n",
    "f_a_unit = 1e14\n",
    "f_a = f_a_s / f_a_unit\n",
    "params, cov = opt.curve_fit(fit_fn, np.log10(f_a), np.log10(Omega), p0=(-5, 1, 1, 0), maxfev=5000)\n",
    "err = np.sqrt(np.diag(cov))\n",
    "log_A, q, B_over_A, p_minus_q = params\n",
    "print(params, \"+/-\\n\", err)\n",
    "A = 10 ** log_A\n",
    "B = B_over_A * A\n",
    "p = p_minus_q + q\n",
    "print(\"A =\", A)\n",
    "print(\"q =\", q, \"vs 7/6 =\", 7/6)\n",
    "print(\"B =\", B)\n",
    "print(\"p =\", p, \"vs 3/2 =\", 3/2)"
   ]
  },
  {
   "cell_type": "code",
   "execution_count": 5,
   "metadata": {},
   "outputs": [
    {
     "data": {
      "image/png": "[encoded data removed]",
      "text/plain": [
       "<matplotlib.figure.Figure at 0x7fb3c95d9160>"
      ]
     },
     "metadata": {},
     "output_type": "display_data"
    }
   ],
   "source": [
    "plt.plot(np.log10(f_a) + np.log10(f_a_unit), np.log10(Omega) + np.log10(Omega_unit), \"x\", label=\"Numerical\")\n",
    "plt.plot(np.log10(f_a) + np.log10(f_a_unit), fit_fn(np.log10(f_a), *params) + np.log10(Omega_unit), label=\"Fit\")\n",
    "plt.xlabel(\"$f_a$\", fontsize=15)\n",
    "plt.ylabel(r\"$\\Omega_a h^2$\", fontsize=15)\n",
    "plt.legend(fontsize=14)\n",
    "plt.show()\n"
   ]
  },
  {
   "cell_type": "markdown",
   "metadata": {},
   "source": [
    "## Rational"
   ]
  },
  {
   "cell_type": "code",
   "execution_count": 34,
   "metadata": {},
   "outputs": [
    {
     "name": "stdout",
     "output_type": "stream",
     "text": [
      "[  1.00000000e-04   1.16666667e+00   1.00000000e+00   1.00000000e+12\n",
      "   1.00000000e-03] \n",
      " [  2.76009682e-05   1.38342783e+00   2.35546078e+00   3.45831909e+17\n",
      "   3.65257046e+02]\n"
     ]
    },
    {
     "name": "stderr",
     "output_type": "stream",
     "text": [
      "/usr/local/lib/python3.6/dist-packages/ipykernel_launcher.py:5: RuntimeWarning: invalid value encountered in power\n",
      "  \"\"\"\n",
      "/usr/local/lib/python3.6/dist-packages/ipykernel_launcher.py:12: RuntimeWarning: invalid value encountered in sqrt\n",
      "  if sys.path[0] == '':\n"
     ]
    },
    {
     "data": {
      "image/png": "[encoded data removed]",
      "text/plain": [
       "<matplotlib.figure.Figure at 0x7fa59da7dbe0>"
      ]
     },
     "metadata": {},
     "output_type": "display_data"
    }
   ],
   "source": [
    "# def fit_fn(f_a, A, S, C, f_star, q):\n",
    "def fit_fn(log_f_a, A, S, C, f_star, q):\n",
    "\n",
    "    # P = S * (1 + C * (f_a / f_star)**q) / (1 + (f_a / f_star)**q)\n",
    "    P = S * (1 + C * (10**log_f_a / f_star)**q) / (1 + (10**log_f_a / f_star)**q)\n",
    "    # return np.log10(A) + P * np.log10(f_a)\n",
    "    return np.log10(A) + P * log_f_a\n",
    "\n",
    "# params, cov = opt.curve_fit(fit_fn, f_a, np.log10(Omega), p0=(1e-4, 7/6, 1, 1e12, 1e-3))\n",
    "params, cov = opt.curve_fit(fit_fn, np.log10(f_a), np.log10(Omega), p0=(1e-4, 7/6, 1, 1e12, 1e-3))\n",
    "\n",
    "err = np.diag(np.sqrt(cov))\n",
    "plt.plot(np.log10(f_a), np.log10(Omega), \"x\")\n",
    "# plt.semilogx(f_a, fit_fn(f_a, *params))\n",
    "plt.plot(np.log10(f_a), fit_fn(np.log10(f_a), *params))\n",
    "\n",
    "# plt.xlim((1e12, np.max(f_a)))\n",
    "print(params, \"\\n\", err)"
   ]
  },
  {
   "cell_type": "code",
   "execution_count": 128,
   "metadata": {},
   "outputs": [],
   "source": [
    "from ipywidgets import interact\n",
    "import ipywidgets "
   ]
  },
  {
   "cell_type": "code",
   "execution_count": 135,
   "metadata": {},
   "outputs": [
    {
     "data": {
      "application/vnd.jupyter.widget-view+json": {
       "model_id": "95a957bcf968473c9072efbbf61f0647",
       "version_major": 2,
       "version_minor": 0
      },
      "text/html": [
       "<p>Failed to display Jupyter Widget of type <code>interactive</code>.</p>\n",
       "<p>\n",
       "  If you're reading this message in the Jupyter Notebook or JupyterLab Notebook, it may mean\n",
       "  that the widgets JavaScript is still loading. If this message persists, it\n",
       "  likely means that the widgets JavaScript library is either not installed or\n",
       "  not enabled. See the <a href=\"https://ipywidgets.readthedocs.io/en/stable/user_install.html\">Jupyter\n",
       "  Widgets Documentation</a> for setup instructions.\n",
       "</p>\n",
       "<p>\n",
       "  If you're reading this message in another frontend (for example, a static\n",
       "  rendering on GitHub or <a href=\"https://nbviewer.jupyter.org/\">NBViewer</a>),\n",
       "  it may mean that your frontend doesn't currently support widgets.\n",
       "</p>\n"
      ],
      "text/plain": [
       "interactive(children=(FloatSlider(value=1.1, description='S', max=2.0, min=0.2), FloatSlider(value=1.0, description='C', max=2.0), FloatSlider(value=5.0, description='f_s', max=10.0), FloatSlider(value=12.5, description='q', max=25.0), Output()), _dom_classes=('widget-interact',))"
      ]
     },
     "metadata": {},
     "output_type": "display_data"
    }
   ],
   "source": [
    "N = 20\n",
    "@interact\n",
    "def fn(S=(0.2, 2.), C=(0., 2.), f_s=(0., 10.), q=(0., 25.)):\n",
    "    f = np.linspace(0, 10, 300)\n",
    "    plt.plot(f, S * (1 + C / S * (f / f_s)**q) / (1 + (f / f_s)**q))"
   ]
  },
  {
   "cell_type": "code",
   "execution_count": null,
   "metadata": {},
   "outputs": [],
   "source": []
  }
 ],
 "metadata": {
  "kernelspec": {
   "display_name": "Python 3",
   "language": "python",
   "name": "python3"
  },
  "language_info": {
   "codemirror_mode": {
    "name": "ipython",
    "version": 3
   },
   "file_extension": ".py",
   "mimetype": "text/x-python",
   "name": "python",
   "nbconvert_exporter": "python",
   "pygments_lexer": "ipython3",
   "version": "3.6.7"
  }
 },
 "nbformat": 4,
 "nbformat_minor": 2
}
