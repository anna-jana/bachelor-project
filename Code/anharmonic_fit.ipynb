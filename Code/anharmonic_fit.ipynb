{
 "cells": [
  {
   "cell_type": "code",
   "execution_count": 1,
   "metadata": {},
   "outputs": [],
   "source": [
    "import numpy as np\n",
    "import matplotlib.pyplot as plt\n",
    "from scipy.optimize import curve_fit\n",
    "\n",
    "import runner\n",
    "import config"
   ]
  },
  {
   "cell_type": "code",
   "execution_count": 3,
   "metadata": {},
   "outputs": [],
   "source": [
    "Omega_a_h_sq_harm, theta_i_s_harm, f_a_s_harm = runner.load_data(config.data_path + \"/harmonic.npz\")\n",
    "Omega_a_h_sq, theta_i_s, f_a_s = runner.load_data(config.data_path + \"/cosine.npz\")"
   ]
  },
  {
   "cell_type": "code",
   "execution_count": 18,
   "metadata": {},
   "outputs": [],
   "source": [
    "f = Omega_a_h_sq / Omega_a_h_sq_harm\n",
    "f = np.mean(f, axis=1)[:-1]\n",
    "theta = theta_i_s_harm[:-1]"
   ]
  },
  {
   "cell_type": "code",
   "execution_count": 20,
   "metadata": {},
   "outputs": [],
   "source": [
    "def fit_fn(theta, alpha, beta):\n",
    "    return np.log(np.exp(1) / (1 - (theta/np.pi)**2)**beta)**alpha"
   ]
  },
  {
   "cell_type": "code",
   "execution_count": 21,
   "metadata": {},
   "outputs": [
    {
     "name": "stdout",
     "output_type": "stream",
     "text": [
      "[1.92825292 0.33441749] [0.01180868 0.00303527]\n"
     ]
    }
   ],
   "source": [
    "turner = (7/6, 2)\n",
    "p, cov = curve_fit(fit_fn, theta, f, p0=turner, method=\"dogbox\")\n",
    "err = np.sqrt(np.diag(cov))\n",
    "print(p, err)"
   ]
  },
  {
   "cell_type": "code",
   "execution_count": 23,
   "metadata": {},
   "outputs": [
    {
     "data": {
      "image/png": "[encoded data removed]",
      "text/plain": [
       "<Figure size 432x288 with 1 Axes>"
      ]
     },
     "metadata": {
      "needs_background": "light"
     },
     "output_type": "display_data"
    }
   ],
   "source": [
    "plt.plot(theta, f, label=\"numerical\")\n",
    "plt.plot(theta, fit_fn(theta, *p), label=\"fit\")\n",
    "plt.xlabel(r\"$\\theta$\")\n",
    "plt.ylabel(r\"$f$\")\n",
    "plt.legend()\n",
    "plt.savefig(config.plot_path + \"/anharm_fit.pdf\")"
   ]
  }
 ],
 "metadata": {
  "kernelspec": {
   "display_name": "Python 3",
   "language": "python",
   "name": "python3"
  },
  "language_info": {
   "codemirror_mode": {
    "name": "ipython",
    "version": 3
   },
   "file_extension": ".py",
   "mimetype": "text/x-python",
   "name": "python",
   "nbconvert_exporter": "python",
   "pygments_lexer": "ipython3",
   "version": "3.6.9"
  }
 },
 "nbformat": 4,
 "nbformat_minor": 2
}
