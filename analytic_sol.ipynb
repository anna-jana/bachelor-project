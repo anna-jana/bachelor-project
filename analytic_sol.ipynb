{
 "cells": [
  {
   "cell_type": "code",
   "execution_count": 1,
   "metadata": {},
   "outputs": [],
   "source": [
    "\"\"\"\n",
    "Plot the analytical solution for the Klein Gordon Eq.\n",
    "in the case of an universe with a ~ t^p like radiation domination\n",
    "and for V = 1/2*m_a**2*phi**2 with a constant mass.\n",
    "\"\"\"\n",
    "\n",
    "# coding: utf-8\n",
    "#from __future__ import division, print_function\n",
    "\n",
    "import sys, os, time, math\n",
    "import numpy as np\n",
    "from numpy import pi, sin, cos, tan, tanh, sqrt, exp, log\n",
    "from scipy.integrate import odeint\n",
    "from scipy.constants import G, c, hbar, Boltzmann as kB\n",
    "import matplotlib.pyplot as plt\n",
    "from scipy.special import jv, yv, jvp, yvp # first and second bessel functions"
   ]
  },
  {
   "cell_type": "code",
   "execution_count": 2,
   "metadata": {},
   "outputs": [],
   "source": [
    "# parameter\n",
    "N = 800 # number of steps\n",
    "m_a = 1 # axion mass [10^-20 eV] range from paper\n",
    "# the evolution of phi doent depent on the value of phi_init\n",
    "phi_init = 1 # [1]\n",
    "p = 1/2 # radiation dominated\n",
    "n = (3*p - 1) / 2 # nth bessel function"
   ]
  },
  {
   "cell_type": "code",
   "execution_count": 3,
   "metadata": {},
   "outputs": [],
   "source": [
    "# scale parameter\n",
    "# a = a0 * (t/t0)^p\n",
    "# a_dot = a0 * p / t0 * (t/t0)^(p - 1)\n",
    "# H = p / t\n",
    "# A*H(a_osc) = m_a\n",
    "# A p / t = m_a\n",
    "# t = A p / m_a\n",
    "# a_osc / a_i = (t / ti) ^ p = (A p / m_a ti) ^ p\n",
    "a0 = 1\n",
    "A = 2\n",
    "a_osc_prime = 30\n",
    "# only valid for a ~ t^p\n",
    "ma_times_ti = A * p / a_osc_prime**(1/p)\n",
    "t_init = ma_times_ti / m_a\n",
    "a_osc = a_osc_prime * a0\n",
    "# t_osc = A * p / m_a\n",
    "# a_osc2 = a0 * (t_osc / t_init) ** p\n",
    "a_end = a0 * 1e3\n",
    "# t_init = 1.0 # inital time [1 / (1e-20 eV)]\n",
    "t_end = t_init * (a_end / a0)**(1/p)"
   ]
  },
  {
   "cell_type": "code",
   "execution_count": 4,
   "metadata": {},
   "outputs": [],
   "source": [
    "t = np.logspace(np.log10(t_init), np.log10(t_end), N) # time\n",
    "a = a0*(t/t_init)**p\n",
    "a_prime = a / a0 # sclae factor relative to the initial scale factor\n",
    "a_dot = a0*p/t_init*(t/t_init)**(p - 1)\n",
    "H = a_dot / a # = p / t"
   ]
  },
  {
   "cell_type": "code",
   "execution_count": 5,
   "metadata": {},
   "outputs": [],
   "source": [
    "# initial conditions\n",
    "bessel_arg_init = m_a * t_init\n",
    "# from psi dot = 0\n",
    "alpha = (-3/2*p + 1/2) / t_init\n",
    "A = alpha*jv(n, bessel_arg_init) + m_a*jvp(n, bessel_arg_init)\n",
    "B = alpha*yv(n, bessel_arg_init) + m_a*yvp(n, bessel_arg_init)"
   ]
  },
  {
   "cell_type": "code",
   "execution_count": 6,
   "metadata": {},
   "outputs": [],
   "source": [
    "# from psi = f_a * theta\n",
    "C = a0**(-3/2) * jv(n, bessel_arg_init)\n",
    "D = a0**(-3/2) * yv(n, bessel_arg_init)\n",
    "\n",
    "# compute coeffs\n",
    "det = B*C - A*D\n",
    "C1 =   B * phi_init / det\n",
    "C2 = - A * phi_init / det"
   ]
  },
  {
   "cell_type": "code",
   "execution_count": 7,
   "metadata": {},
   "outputs": [],
   "source": [
    "# compute analytic solution for the axion background field and its time derivative\n",
    "phi = a**(-3/2) * (t / t_init)**(1/2) * (C1*jv(n, m_a * t) + C2*yv(n, m_a * t))\n",
    "kappa = a0**(-3/2) / t_init**(-3/2*p + 1/2)\n",
    "phi_dot = kappa * ((-3/2*p + 1/2)*t**(-3/2*p - 1/2)*(C1*jv(n, m_a * t) + C2*yv(n, m_a * t)) + \\\n",
    "                   t**(-3/2*p + 1/2) * m_a * (C1*jvp(n, m_a * t) + C2*yvp(n, m_a * t)))"
   ]
  },
  {
   "cell_type": "code",
   "execution_count": 8,
   "metadata": {},
   "outputs": [],
   "source": [
    "# compute density and related quantities\n",
    "rho_a = 1/2*phi_dot**2 + 1/2*m_a**2*phi**2 # denity\n",
    "P_a = 1/2*phi_dot**2 - 1/2*m_a**2*phi**2 # pressure\n",
    "w_a = P_a / rho_a # eq. of state\n",
    "rho_c = 3 * H**2 / (8*pi*G) # critical density\n",
    "density_parameter = rho_a / rho_c"
   ]
  },
  {
   "cell_type": "code",
   "execution_count": 9,
   "metadata": {},
   "outputs": [],
   "source": [
    "# approximate the density when the axion field is oscillating\n",
    "osc_index = np.where(a >= a_osc)[0][0] # find the index where a > a_osc for the first time\n",
    "rho_a_osc = rho_a[osc_index]\n",
    "valid_a = a[osc_index:]\n",
    "rho_a_approx = rho_a_osc * (a_osc / valid_a)**3"
   ]
  },
  {
   "cell_type": "code",
   "execution_count": 10,
   "metadata": {},
   "outputs": [
    {
     "data": {
      "image/png": "[encoded data removed]",
      "text/plain": [
       "<matplotlib.figure.Figure at 0x7f3da8a2fba8>"
      ]
     },
     "metadata": {},
     "output_type": "display_data"
    }
   ],
   "source": [
    "# plot all the stuff\n",
    "# field\n",
    "plt.subplot(2, 2, 1)\n",
    "plt.semilogx(a_prime, phi)\n",
    "plt.ylabel(r\"Axion Field $\\phi$\")\n",
    "# TODO: plot the a_osc position using a vertical dashed line\n",
    "plt.axvline(a_osc, linestyle=\"--\", color=\"black\")\n",
    "\n",
    "# mass vs hubble\n",
    "plt.subplot(2, 2, 2)\n",
    "plt.loglog(a_prime, H, label=\"Hubble\")\n",
    "# plt.loglog(a_prime, p / t, label=\"Hubble formula\")\n",
    "plt.loglog(a_prime, np.ones(a_prime.size) * m_a / 2, label=r\"$m_a / 2$\")\n",
    "plt.legend()\n",
    "plt.axvline(a_osc, linestyle=\"--\", color=\"black\")\n",
    "\n",
    "# eos\n",
    "plt.subplot(2, 2, 3)\n",
    "plt.semilogx(a_prime, w_a)\n",
    "plt.ylabel(\"Equation of State $w$\")\n",
    "plt.xlabel(\"Scale Factor $a / a_i$\")\n",
    "plt.axvline(a_osc, linestyle=\"--\", color=\"black\")\n",
    "\n",
    "# density\n",
    "plt.subplot(2, 2, 4)\n",
    "plt.loglog(a_prime, rho_a, label=\"Exact Density\")\n",
    "plt.loglog(valid_a / a0, rho_a_approx, label=\"Approx. Density\")\n",
    "plt.xlabel(\"Scale Factor $a / a_i$\")\n",
    "plt.legend()\n",
    "plt.axvline(a_osc, linestyle=\"--\", color=\"black\")\n",
    "\n",
    "plt.tight_layout()\n",
    "plt.savefig(\"Plots/analytic_power_law_plot.pdf\")\n",
    "# TODO: rescale phi to correct units"
   ]
  },
  {
   "cell_type": "code",
   "execution_count": null,
   "metadata": {},
   "outputs": [],
   "source": []
  }
 ],
 "metadata": {
  "kernelspec": {
   "display_name": "Python 3",
   "language": "python",
   "name": "python3"
  },
  "language_info": {
   "codemirror_mode": {
    "name": "ipython",
    "version": 3
   },
   "file_extension": ".py",
   "mimetype": "text/x-python",
   "name": "python",
   "nbconvert_exporter": "python",
   "pygments_lexer": "ipython3",
   "version": "3.6.7"
  }
 },
 "nbformat": 4,
 "nbformat_minor": 2
}
